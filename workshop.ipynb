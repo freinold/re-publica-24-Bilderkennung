{
 "cells": [
  {
   "cell_type": "markdown",
   "metadata": {},
   "source": [
    "# Workshop: Wie lernt KI, Bilder zu erkennen?\n",
    "[![Open in Colab](https://colab.research.google.com/assets/colab-badge.svg)](https://colab.research.google.com/github/freinold/re-publica-24-Bilderkennung/blob/main/workshop.ipynb)"
   ]
  },
  {
   "cell_type": "code",
   "execution_count": null,
   "metadata": {},
   "outputs": [],
   "source": [
    "# Pakete installieren\n",
    "! pip install ultralytics gradio"
   ]
  },
  {
   "cell_type": "markdown",
   "metadata": {},
   "source": [
    "Wir setzen auf die YOLO-Modelle aus dem Paket ultralytics, diese sind sehr einfach handzuhaben und gut dokumentiert: https://www.ultralytics.com/de"
   ]
  },
  {
   "cell_type": "code",
   "execution_count": null,
   "metadata": {},
   "outputs": [],
   "source": [
    "# Laden des Modells yolov8n\n",
    "from ultralytics import YOLO\n",
    "\n",
    "model = "
   ]
  },
  {
   "cell_type": "code",
   "execution_count": null,
   "metadata": {},
   "outputs": [],
   "source": [
    "# Aufruf des Modells mit .predict(), conf auf 0.1 setzen\n",
    "\n",
    "inf_results = \n",
    "\n",
    "inf_results[0].save()"
   ]
  },
  {
   "cell_type": "markdown",
   "metadata": {},
   "source": [
    "Trainingsdaten von Roboflow herunterladen: https://universe.roboflow.com/itatm-k0u61/mini-muenchen"
   ]
  },
  {
   "cell_type": "code",
   "execution_count": null,
   "metadata": {},
   "outputs": [],
   "source": [
    "!unzip mini-muenchen.v1i.yolov8.zip -d data"
   ]
  },
  {
   "cell_type": "code",
   "execution_count": null,
   "metadata": {},
   "outputs": [],
   "source": [
    "# Training mit 10 Epochen durchführen\n",
    "\n",
    "train_results = model.train(\n",
    "    data=,  \n",
    "    epochs=\n",
    ")"
   ]
  },
  {
   "cell_type": "markdown",
   "metadata": {},
   "source": [
    "Ergebnisse des Trainings liegen im Ordner \"runs/detect/train*\" (jeder Lauf erzeugt einen neuen Ordner)"
   ]
  },
  {
   "cell_type": "code",
   "execution_count": null,
   "metadata": {},
   "outputs": [],
   "source": [
    "# Testen des Modells mit .predict()\n",
    "our_model = YOLO()\n",
    "\n",
    "new_results = our_model.predict(\"testbild.jpg\", conf=0.1)\n",
    "new_results[0].save()"
   ]
  },
  {
   "cell_type": "code",
   "execution_count": null,
   "metadata": {},
   "outputs": [],
   "source": [
    "# Nun laden wir ein vortrainiertes Modell, das auf ein größeres Neuronales Netz zurückgreift und für 50 Epochen trainiert wurde.\n",
    "\n",
    "pretrained_model = YOLO()\n",
    "\n",
    "prediction = pretrained_model.predict(\"testbild.jpg\", conf=0.1)\n",
    "prediction[0].save()"
   ]
  },
  {
   "cell_type": "code",
   "execution_count": null,
   "metadata": {},
   "outputs": [],
   "source": [
    "# Modell in Funktion einbauen\n",
    "\n",
    "def predict(img):\n",
    "    "
   ]
  },
  {
   "cell_type": "code",
   "execution_count": null,
   "metadata": {},
   "outputs": [],
   "source": [
    "# Web-Interface bauen\n",
    "\n",
    "import gradio as gr\n",
    "\n",
    "iface = gr.Interface(\n",
    "    fn=, \n",
    "    inputs=gr.Image(type=\"filepath\", label=\"Bild auswählen\"), \n",
    "    outputs=gr.Image(type=\"filepath\", label=\"Erkannte Objekte\"),\n",
    ")\n",
    "\n"
   ]
  }
 ],
 "metadata": {
  "kernelspec": {
   "display_name": "republica",
   "language": "python",
   "name": "python3"
  },
  "language_info": {
   "codemirror_mode": {
    "name": "ipython",
    "version": 3
   },
   "file_extension": ".py",
   "mimetype": "text/x-python",
   "name": "python",
   "nbconvert_exporter": "python",
   "pygments_lexer": "ipython3",
   "version": "3.11.9"
  }
 },
 "nbformat": 4,
 "nbformat_minor": 2
}
